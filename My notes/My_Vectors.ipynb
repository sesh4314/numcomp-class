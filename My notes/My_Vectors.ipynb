{
 "cells": [
  {
   "cell_type": "markdown",
   "metadata": {},
   "source": [
    "# Vectors"
   ]
  },
  {
   "cell_type": "code",
   "execution_count": 2,
   "metadata": {},
   "outputs": [],
   "source": [
    "import numpy as np\n",
    "import matplotlib.pyplot as plt\n",
    "import pandas as pd\n",
    "plt.style.use('seaborn')"
   ]
  },
  {
   "cell_type": "markdown",
   "metadata": {},
   "source": [
    "Vectors represent points in an 𝑛-dimensional space. They are represented as arrays of numbers along with primitive operations, as supported by the NumPy array type."
   ]
  },
  {
   "cell_type": "markdown",
   "metadata": {},
   "source": [
    "### Vector operations"
   ]
  },
  {
   "cell_type": "markdown",
   "metadata": {},
   "source": [
    "Vector addition and scalar multiplication:"
   ]
  },
  {
   "cell_type": "code",
   "execution_count": 3,
   "metadata": {},
   "outputs": [
    {
     "name": "stdout",
     "output_type": "stream",
     "text": [
      "Addition:\n",
      " a+b = [0.  2.5]\n",
      "Scalar Multiplication:\n",
      " 0.5*a = [0.5 1. ]\n",
      "Dot Product:\n",
      " a*b = 0.0\n",
      "Transpose:\n",
      " a.T = [1 2]\n"
     ]
    }
   ],
   "source": [
    "#vectors\n",
    "a = np.array([1,2])\n",
    "b = np.array([-1, .5])\n",
    "c = a+b\n",
    "\n",
    "print(\"Addition:\\n a+b = {}\".format(a+b))\n",
    "print(\"Scalar Multiplication:\\n 0.5*a = {}\".format(.5*a))\n",
    "print(\"Dot Product:\\n a*b = {}\".format(a@b))\n",
    "print(\"Transpose:\\n a.T = {}\".format(a.T))"
   ]
  },
  {
   "cell_type": "code",
   "execution_count": 8,
   "metadata": {},
   "outputs": [
    {
     "name": "stdout",
     "output_type": "stream",
     "text": [
      "[[1. 0.]\n",
      " [0. 1.]]\n",
      "[[1. 0.]\n",
      " [0. 1.]]\n"
     ]
    }
   ],
   "source": [
    "#defining  2x2 vector B\n",
    "B = np.array([[2, 3],[0, 4]])\n",
    "\n",
    "#getting the inverse\n",
    "Binv = np.linalg.inv(B)\n",
    "\n",
    "#multiplying these vectors\n",
    "print(np.linalg.solve(B, B))\n",
    "print(B@Binv)"
   ]
  },
  {
   "cell_type": "code",
   "execution_count": 10,
   "metadata": {},
   "outputs": [
    {
     "name": "stdout",
     "output_type": "stream",
     "text": [
      "[[2 3]\n",
      " [0 4]\n",
      " [5 7]]\n"
     ]
    },
    {
     "data": {
      "text/plain": [
       "(3, 2)"
      ]
     },
     "execution_count": 10,
     "metadata": {},
     "output_type": "execute_result"
    }
   ],
   "source": [
    "#printing the shape of a vector\n",
    "C = np.array([[2, 3],[0, 4], [5,7]])\n",
    "print(C)\n",
    "C.shape"
   ]
  },
  {
   "cell_type": "markdown",
   "metadata": {},
   "source": [
    "## Inner Product and Orthogonality"
   ]
  },
  {
   "cell_type": "markdown",
   "metadata": {},
   "source": [
    "The **inner product**\n",
    "$$ x^T y = \\sum_i x_i y_i $$\n",
    "of vectors (or columns of a matrix) tell us about their magnitude and about the angle."
   ]
  },
  {
   "cell_type": "code",
   "execution_count": 5,
   "metadata": {},
   "outputs": [
    {
     "name": "stdout",
     "output_type": "stream",
     "text": [
      "a = [1 2]\n",
      "c = [0.  2.5]\n",
      "5.0\n",
      "5.0\n"
     ]
    }
   ],
   "source": [
    "print(\"a = {}\".format(a))\n",
    "print(\"c = {}\".format(c))\n",
    "\n",
    "print(a.T @ c)\n",
    "print(a@c)"
   ]
  },
  {
   "cell_type": "markdown",
   "metadata": {},
   "source": [
    "The **norm** is induced by the inner product,\n",
    "$$ \\lVert x \\rVert = \\sqrt{x^T x} .$$"
   ]
  },
  {
   "cell_type": "code",
   "execution_count": 38,
   "metadata": {},
   "outputs": [
    {
     "data": {
      "text/plain": [
       "[2.23606797749979, 1.118033988749895, 2.5]"
      ]
     },
     "execution_count": 38,
     "metadata": {},
     "output_type": "execute_result"
    }
   ],
   "source": [
    "def norm(x):\n",
    "    return np.sqrt(x @ x)\n",
    "                   \n",
    "[norm(x) for x in [a, b, c]]"
   ]
  },
  {
   "cell_type": "markdown",
   "metadata": {},
   "source": [
    "Inner products satisfy the **Cauchy-Schwarz inequality**,\n",
    "$$ \\lvert x^T y \\rvert \\le \\lVert x \\rVert \\lVert y \\rVert. $$"
   ]
  },
  {
   "cell_type": "markdown",
   "metadata": {},
   "source": [
    "The **angle** $\\theta$ between vectors is defined by\n",
    "$$ \\cos \\theta = \\frac{x^T y}{\\lVert x \\rVert \\, \\lVert y \\rVert} . $$"
   ]
  },
  {
   "cell_type": "code",
   "execution_count": 39,
   "metadata": {
    "scrolled": true
   },
   "outputs": [
    {
     "data": {
      "text/plain": [
       "1.5707963267948966"
      ]
     },
     "execution_count": 39,
     "metadata": {},
     "output_type": "execute_result"
    }
   ],
   "source": [
    "def theta(x, y):\n",
    "    return np.arccos(x @ y / (norm(x) * norm(y)))\n",
    "\n",
    "theta(a, b)"
   ]
  },
  {
   "cell_type": "markdown",
   "metadata": {},
   "source": [
    "## Properties"
   ]
  },
  {
   "cell_type": "markdown",
   "metadata": {},
   "source": [
    "Inner products are **bilinear**, which means that they satisfy some convenient **algebraic properties**\n",
    "$$ \\begin{split}\n",
    "(x + y)^T z &= x^T z + y^T z \\\\\n",
    "x^T (y + z) &= x^T y + x^T z \\\\\n",
    "(\\alpha x)^T (\\beta y) &= \\alpha \\beta x^T y . \\\\\n",
    "\\end{split} $$\n",
    "\n",
    "The pairwise inner products between two sets of vectors can be expressed by collecting the sets as columns in matrices and writing $A = X^T Y$ where $A_{i,j} = x_i^T y_j$.\n",
    "It follows from this definition that\n",
    "$$ (X^T Y)^T = Y^T X .$$"
   ]
  },
  {
   "cell_type": "markdown",
   "metadata": {},
   "source": [
    "We can use bilinearity and the Cauchy-Schwarz inequality to prove the **triagle inequality** as follows,\n",
    "\\begin{split} \\lVert x + y \\rVert^2 &= (x + y)^T (x + y) \\\\\n",
    "&= x^T x + 2 x^T y + y^T y \\\\\n",
    "&\\le \\lVert x \\rVert^2 + 2 \\lVert x \\rVert \\lVert y \\rVert + \\lVert y \\rVert^2 \\\\\n",
    "&= (\\lVert x \\rVert + \\lVert y \\rVert)^2 .\n",
    "\\end{split}"
   ]
  },
  {
   "cell_type": "markdown",
   "metadata": {},
   "source": [
    "### Plotting Vectors"
   ]
  },
  {
   "cell_type": "markdown",
   "metadata": {},
   "source": [
    "S'pose we wanted to plot vectors of length 2"
   ]
  },
  {
   "cell_type": "code",
   "execution_count": 15,
   "metadata": {},
   "outputs": [
    {
     "data": {
      "image/png": "[encoded data removed]",
      "text/plain": [
       "<Figure size 576x396 with 1 Axes>"
      ]
     },
     "metadata": {},
     "output_type": "display_data"
    }
   ],
   "source": [
    "#origin\n",
    "o = np.zeros_like(a)\n",
    "\n",
    "#vectors\n",
    "a = np.array([1,2])\n",
    "b = np.array([-1, .5])\n",
    "c = a+b\n",
    "\n",
    "plt.plot(*o)\n",
    "#plot vector like this\n",
    "plt.plot(a[0], a[1], 'o', label=\"a\")\n",
    "#or like this\n",
    "plt.plot(*b, 's', label=\"b\")\n",
    "plt.plot(*c, '^', label=\"c\")\n",
    "\n",
    "#plot vector line like this\n",
    "plt.arrow(*o, *b, color='r')\n",
    "plt.arrow(*a, *b, color='g') #notics the diff.\n",
    "\n",
    "plt.legend()\n",
    "plt.axis('equal')\n",
    "plt.show()"
   ]
  },
  {
   "cell_type": "code",
   "execution_count": null,
   "metadata": {},
   "outputs": [],
   "source": []
  }
 ],
 "metadata": {
  "kernelspec": {
   "display_name": "Python 3",
   "language": "python",
   "name": "python3"
  },
  "language_info": {
   "codemirror_mode": {
    "name": "ipython",
    "version": 3
   },
   "file_extension": ".py",
   "mimetype": "text/x-python",
   "name": "python",
   "nbconvert_exporter": "python",
   "pygments_lexer": "ipython3",
   "version": "3.7.2"
  }
 },
 "nbformat": 4,
 "nbformat_minor": 2
}
