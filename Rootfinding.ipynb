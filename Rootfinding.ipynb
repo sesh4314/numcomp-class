{
 "cells": [
  {
   "cell_type": "markdown",
   "metadata": {},
   "source": [
    "#### Jupyter notebooks\n",
    "\n",
    "This is a [Jupyter](http://jupyter.org/) notebook using Python.  You can install Jupyter locally to edit and interact with this notebook.\n",
    "\n",
    "# Rootfinding\n",
    "\n",
    "Rootfinding is the process of solving $$f(x) = 0$$ for $x$.  The standard assumption is that $f : R \\to R$ is _continuous_.  We are interested in developing general-purpose algorithms---those that can use $f(x)$ as a black box without needing to look inside.  When we implement our rootfinding algorithm in software, the user will pass a function or program to compute $f(x)$.  Rootfinding methods for differentiable functions may also use the derivative $f'(x)$.\n",
    "\n",
    "Some questions immediately arise:\n",
    "* **Existence.** When does this equation have at least one solution?\n",
    "* **Uniqueness.** When is the solution unique?\n",
    "\n",
    "Let's consider some test functions, defined here along with their derivatives which we'll use later."
   ]
  },
  {
   "cell_type": "code",
   "execution_count": 2,
   "metadata": {},
   "outputs": [
    {
     "data": {
      "image/png": "[encoded data removed]",
      "text/plain": [
       "<Figure size 432x288 with 1 Axes>"
      ]
     },
     "metadata": {},
     "output_type": "display_data"
    }
   ],
   "source": [
    "%matplotlib inline\n",
    "import matplotlib.pyplot as plt\n",
    "plt.style.use('ggplot')\n",
    "import numpy as np\n",
    "\n",
    "tests = []\n",
    "\n",
    "@tests.append\n",
    "def f0(x):\n",
    "    return x*x - 2, 2*x\n",
    "\n",
    "@tests.append\n",
    "def f1(x):\n",
    "    return np.cos(x) - x, -np.sin(x) - 1\n",
    "\n",
    "@tests.append\n",
    "def f2(x):\n",
    "    return (np.exp(-np.abs(x)) + np.sin(x),\n",
    "            np.exp(-np.abs(x))*(-np.sign(x)) + np.cos(x))\n",
    "\n",
    "@tests.append\n",
    "def f3(x):\n",
    "    return x*x - x + 0.25, 2*x - 1\n",
    "\n",
    "x = np.linspace(-2,2,100)\n",
    "plt.plot(x, 0*x, color='k')\n",
    "for f in tests:\n",
    "    plt.plot(x, f(x)[0], label=f.__name__)\n",
    "plt.legend(loc='upper right');"
   ]
  },
  {
   "cell_type": "markdown",
   "metadata": {},
   "source": [
    "* Which of these functions have at least one root?\n",
    "* Which have more than one root?\n",
    "* Can we determine these properties merely by evaluating $f(x)$ for some values of $x$?\n",
    "\n",
    "## Bisection\n",
    "\n",
    "Bisection is a rootfinding technique that starts with an interval $[a,b]$ containing a root and does not require derivatives."
   ]
  },
  {
   "cell_type": "code",
   "execution_count": 3,
   "metadata": {},
   "outputs": [],
   "source": [
    "def hasroot(f, a, b):\n",
    "    \"\"\"Assuming the function f(x) is continuous, return true\n",
    "    if the sign changes within the interval (a,b), thereby\n",
    "    guaranteeing the existence of a root.\n",
    "    \n",
    "    Note that returning False does not guarantee that a root\n",
    "    does not exist.\n",
    "    \"\"\"\n",
    "    return f(a)[0]*f(b)[0] < 0\n",
    "    \n",
    "def bisect(f, a, b, history=None):\n",
    "    mid = (a + b)/2.\n",
    "    if b-a < 1e-5:\n",
    "        if history is None:\n",
    "            return mid\n",
    "        else:\n",
    "            return mid, np.array(history)\n",
    "    if history is not None:\n",
    "        history.append(mid)\n",
    "    if hasroot(f, a, mid):\n",
    "        return bisect(f, a, mid, history)\n",
    "    else:\n",
    "        return bisect(f, mid, b, history)"
   ]
  },
  {
   "cell_type": "markdown",
   "metadata": {},
   "source": [
    "* Notice that we need to define `hasroot` above.\n",
    "\n",
    "Let's try running it:"
   ]
  },
  {
   "cell_type": "code",
   "execution_count": 4,
   "metadata": {},
   "outputs": [
    {
     "data": {
      "text/plain": [
       "0.9999961853027344"
      ]
     },
     "execution_count": 4,
     "metadata": {},
     "output_type": "execute_result"
    }
   ],
   "source": [
    "bisect(tests[0], -1, 1)"
   ]
  },
  {
   "cell_type": "code",
   "execution_count": 5,
   "metadata": {},
   "outputs": [
    {
     "data": {
      "text/plain": [
       "2.2891797357704746e-06"
      ]
     },
     "execution_count": 5,
     "metadata": {},
     "output_type": "execute_result"
    }
   ],
   "source": [
    "np.sqrt(2) - bisect(tests[0], 0, 2)"
   ]
  },
  {
   "cell_type": "markdown",
   "metadata": {},
   "source": [
    "We get about 5 digits of accuracy.  Why?  How fast did we get there?"
   ]
  },
  {
   "cell_type": "code",
   "execution_count": 6,
   "metadata": {
    "scrolled": true
   },
   "outputs": [
    {
     "data": {
      "text/plain": [
       "(1.4142112731933594,\n",
       " [1.0,\n",
       "  1.5,\n",
       "  1.25,\n",
       "  1.375,\n",
       "  1.4375,\n",
       "  1.40625,\n",
       "  1.421875,\n",
       "  1.4140625,\n",
       "  1.41796875,\n",
       "  1.416015625,\n",
       "  1.4150390625,\n",
       "  1.41455078125,\n",
       "  1.414306640625,\n",
       "  1.4141845703125,\n",
       "  1.41424560546875,\n",
       "  1.414215087890625,\n",
       "  1.4141998291015625,\n",
       "  1.4142074584960938])"
      ]
     },
     "execution_count": 6,
     "metadata": {},
     "output_type": "execute_result"
    }
   ],
   "source": [
    "x, h = bisect(tests[0], 0, 2, history=[])\n",
    "x, h.tolist()"
   ]
  },
  {
   "cell_type": "code",
   "execution_count": 9,
   "metadata": {},
   "outputs": [
    {
     "data": {
      "image/png": "[encoded data removed]",
      "text/plain": [
       "<Figure size 432x288 with 1 Axes>"
      ]
     },
     "metadata": {
      "needs_background": "light"
     },
     "output_type": "display_data"
    }
   ],
   "source": [
    "# Compute and plot errors\n",
    "err = h - np.sqrt(2)\n",
    "plt.semilogy(np.abs(err), 'o')\n",
    "plt.semilogy(.5**np.arange(15), '.-');"
   ]
  },
  {
   "cell_type": "markdown",
   "metadata": {},
   "source": [
    "Can you find any problems with this implementation?  List them below:\n",
    "\n",
    "* No error checking\n",
    "* \n",
    "\n",
    "Let's try running it on the rest of the test problem set:"
   ]
  },
  {
   "cell_type": "code",
   "execution_count": 17,
   "metadata": {},
   "outputs": [
    {
     "name": "stdout",
     "output_type": "stream",
     "text": [
      "f0 -1.4142136573791504\n",
      "f1 0.7390824317932131\n",
      "f2 -0.588533115386963\n",
      "f3 2.0999960899353027\n"
     ]
    }
   ],
   "source": [
    "for f in tests:\n",
    "    print(f.__name__, bisect(f, -2, 2.1))"
   ]
  },
  {
   "cell_type": "markdown",
   "metadata": {},
   "source": [
    "What's going wrong here?  How can we improve the implementation and what are fundamental limitations of the algorithm?\n",
    "\n",
    "### Convergence rate\n",
    "\n",
    "Let's quantitatively revisit the convergence rate.  A convergent rootfinding algorithm produces a sequence of approximations $x_i$ such that $$\\lim_{i \\to \\infty} x_i \\to x_*$$ where $f(x_*) = 0$.  For analysis, it is convenient to define the errors $e_i = x_i - x_*$. We say that an iterative algorithm is **$q$-linearly convergent** if $$\\lim_{i \\to \\infty} |e_{i+1}| / |e_i| = \\rho < 1.$$  (The $q$ is for \"quotient\".)  A smaller convergence factor $\\rho$ represents faster convergence.  A slightly weaker condition ($r$-linear convergence or just **linear convergence**) is that\n",
    "$$ |e_i| \\le \\epsilon_i $$\n",
    "for all sufficiently large $i$ when the sequence $\\{\\epsilon_i\\}$ converges $q$-linearly to 0.\n",
    "\n",
    "Which criteria does the bisection method satisfy?  What is $\\rho$ for bisection?\n",
    "\n",
    "### Remarks on bisection\n",
    "\n",
    "* Specifying an interval is often inconvenient\n",
    "* An interval in which the function changes sign guarantees convergence (robustness)\n",
    "* No derivative information is required\n",
    "* Roots of even degree are problematic\n",
    "* A bound on the solution error is directly available\n",
    "* The convergence rate is modest -- one iteration per bit of accuracy\n",
    "\n",
    "## Newton-Raphson Method\n",
    "\n",
    "Much of numerical analysis reduces to [Taylor series](https://en.wikipedia.org/wiki/Taylor_series), the approximation\n",
    "$$ f(x) = f(x_0) + f'(x_0) (x-x_0) + f''(x_0) (x - x_0)^2 / 2 + \\underbrace{\\dotsb}_{O((x-x_0)^3)} $$\n",
    "centered on some reference point $x_0$.\n",
    "\n",
    "In numerical computation, it is exceedingly rare to look beyond the first-order approximation\n",
    "$$ \\tilde f_{x_0}(x) = f(x_0) + f'(x_0)(x - x_0) . $$\n",
    "Since $\\tilde f_{x_0}(x)$ is a linear function, we can explicitly compute the unique solution of $\\tilde f_{x_0}(x) = 0$ as\n",
    "$$ x = x_0 - f(x_0) / f'(x_0) . $$\n",
    "This is Newton's Method (aka Newton-Raphson or Newton-Raphson-Simpson) for finding the roots of differentiable functions."
   ]
  },
  {
   "cell_type": "code",
   "execution_count": 18,
   "metadata": {},
   "outputs": [
    {
     "name": "stdout",
     "output_type": "stream",
     "text": [
      "f0 (1.4142135623730951, 4.440892098500626e-16, 5)\n",
      "f1 (0.7390851332151607, 0.0, 4)\n",
      "f2 (-6.285049273382587, -1.4268100589909238e-16, 4)\n",
      "f3 (0.5000009536743164, 9.094947017729282e-13, 19)\n"
     ]
    }
   ],
   "source": [
    "def newton(func, x, verbose=False):\n",
    "    \"\"\"Solve f(x) = 0 using initial guess x.\n",
    "    \n",
    "    The provided function func must return a pair of values,\n",
    "    f(x) and its derivative f'(x).  For example, to solve\n",
    "    the equation x^2 - 3 starting from initial guess x=1,\n",
    "    one would write\n",
    "    \n",
    "    def func(x):\n",
    "        return x**2 - 3, 2*x\n",
    "        \n",
    "    newton(func, 1)\n",
    "    \"\"\"\n",
    "    for i in range(100):\n",
    "        fx, dfx = func(x)\n",
    "        if verbose:\n",
    "            print(func.__name__, i, x, fx)\n",
    "        if np.abs(fx) < 1e-12:\n",
    "            return x, fx, i\n",
    "        try:\n",
    "            x -= fx / dfx\n",
    "        except ZeroDivisionError:\n",
    "            return x, np.NaN, i\n",
    "\n",
    "for f in tests:\n",
    "    print(f.__name__, newton(f, 1, verbose=False))"
   ]
  },
  {
   "cell_type": "markdown",
   "metadata": {},
   "source": [
    "* This output is kinda hard to read, so let's make it cleaner."
   ]
  },
  {
   "cell_type": "code",
   "execution_count": 19,
   "metadata": {},
   "outputs": [
    {
     "name": "stdout",
     "output_type": "stream",
     "text": [
      "f0 -1.414213562373 1.33e-15  8\n",
      "f1  0.739085133215 0.00e+00  5\n",
      "f2 -0.588532743981 5.55e-13  4\n",
      "f3  0.499999427800 3.27e-13 20\n"
     ]
    }
   ],
   "source": [
    "for f in tests:\n",
    "    print(f.__name__, '{0:15.12f} {1:8.2e} {2:2d}'.format(\n",
    "        *newton(f, -0.1)))"
   ]
  },
  {
   "cell_type": "code",
   "execution_count": 20,
   "metadata": {},
   "outputs": [
    {
     "data": {
      "text/html": [
       "<div>\n",
       "<style scoped>\n",
       "    .dataframe tbody tr th:only-of-type {\n",
       "        vertical-align: middle;\n",
       "    }\n",
       "\n",
       "    .dataframe tbody tr th {\n",
       "        vertical-align: top;\n",
       "    }\n",
       "\n",
       "    .dataframe thead th {\n",
       "        text-align: right;\n",
       "    }\n",
       "</style>\n",
       "<table border=\"1\" class=\"dataframe\">\n",
       "  <thead>\n",
       "    <tr style=\"text-align: right;\">\n",
       "      <th></th>\n",
       "      <th>Name</th>\n",
       "      <th>Root</th>\n",
       "      <th>Residual</th>\n",
       "      <th># its</th>\n",
       "    </tr>\n",
       "  </thead>\n",
       "  <tbody>\n",
       "    <tr>\n",
       "      <th>0</th>\n",
       "      <td>f0</td>\n",
       "      <td>-1.414214</td>\n",
       "      <td>1.332268e-15</td>\n",
       "      <td>8</td>\n",
       "    </tr>\n",
       "    <tr>\n",
       "      <th>1</th>\n",
       "      <td>f1</td>\n",
       "      <td>0.739085</td>\n",
       "      <td>0.000000e+00</td>\n",
       "      <td>5</td>\n",
       "    </tr>\n",
       "    <tr>\n",
       "      <th>2</th>\n",
       "      <td>f2</td>\n",
       "      <td>-0.588533</td>\n",
       "      <td>5.553336e-13</td>\n",
       "      <td>4</td>\n",
       "    </tr>\n",
       "    <tr>\n",
       "      <th>3</th>\n",
       "      <td>f3</td>\n",
       "      <td>0.499999</td>\n",
       "      <td>3.274048e-13</td>\n",
       "      <td>20</td>\n",
       "    </tr>\n",
       "  </tbody>\n",
       "</table>\n",
       "</div>"
      ],
      "text/plain": [
       "  Name      Root      Residual  # its\n",
       "0   f0 -1.414214  1.332268e-15      8\n",
       "1   f1  0.739085  0.000000e+00      5\n",
       "2   f2 -0.588533  5.553336e-13      4\n",
       "3   f3  0.499999  3.274048e-13     20"
      ]
     },
     "execution_count": 20,
     "metadata": {},
     "output_type": "execute_result"
    }
   ],
   "source": [
    "# Or as a table using the Pandas library\n",
    "import pandas as pd\n",
    "pd.DataFrame([(f.__name__, *newton(f, -0.1)) for f in tests],\n",
    "             columns=('Name', 'Root', 'Residual', '# its'))"
   ]
  },
  {
   "cell_type": "markdown",
   "metadata": {},
   "source": [
    "* Did we solve all of these equations?\n",
    "* How can the iteration break down?\n",
    "* Does choosing a different initial guess lead to different solutions?\n",
    "* How is this convergence test different from the one we used for bisection?\n",
    "* Is the convergence rate similar for all test equations?\n",
    "\n",
    "## Convergence of Newton-type algorithms\n",
    "\n",
    "We would like to know sharp conditions on when Newton-type algorithms converge, and if so, how fast.  This theory will build on that for a general *Fixed Point Iteration*.\n",
    "\n",
    "### Fixed Point Iteration\n",
    "Consider the iteration\n",
    "$$x_{i+1} = g(x_i)$$\n",
    "where $g$ is a continuously differentiable function.\n",
    "Suppose that there exists a fixed point $r = g(r)$.  By the [mean value theorem](https://en.wikipedia.org/wiki/Mean_value_theorem), we have that\n",
    "$$ x_{i+1} - r = g(x_i) - g(r) = g'(c_i) (x_i - r) $$\n",
    "for some $c_i$ between $x_i$ and $r$.\n",
    "Taking absolute values, $$|e_{i+1}| = |g'(c_i)| |e_i|,$$ which converges to zero if $|g'(c_i)| < 1$.\n",
    "If $|g'(r)| < 1$ then for any $\\epsilon > 0$ there is a neighborhood of $r$ such that $|g'(c_i)| < |g'(r)| + \\epsilon$ for all $c_i$ in that neighborhood (guaranteed any time $x_i$ is in the neighborhood).\n",
    "Consequently, we have:\n",
    "\n",
    "#### Theorem: Linear Convergence of Fixed Point Iteration\n",
    "\n",
    "If $g$ is continuously differentiable, $r = g(r)$, and $|g'(r)| < 1$ then the fixed point iteration $x_{i+1} = g(x_i)$ is locally linearly convergent with rate $|g'(r)|$.\n",
    "\n",
    "#### Example of convergence"
   ]
  },
  {
   "cell_type": "code",
   "execution_count": 51,
   "metadata": {},
   "outputs": [
    {
     "data": {
      "image/png": "[encoded data removed]",
      "text/plain": [
       "<Figure size 432x288 with 1 Axes>"
      ]
     },
     "metadata": {},
     "output_type": "display_data"
    }
   ],
   "source": [
    "x = np.linspace(0, 2)\n",
    "plt.plot(x, x, label='x')\n",
    "plt.plot(x, np.cos(x), label='cos(x)')\n",
    "plt.legend();"
   ]
  },
  {
   "cell_type": "code",
   "execution_count": 49,
   "metadata": {},
   "outputs": [
    {
     "name": "stdout",
     "output_type": "stream",
     "text": [
      "xs: [1]\n"
     ]
    },
    {
     "data": {
      "image/png": "[encoded data removed]",
      "text/plain": [
       "<Figure size 432x288 with 1 Axes>"
      ]
     },
     "metadata": {},
     "output_type": "display_data"
    }
   ],
   "source": [
    "# Solve x = cos(x) using fixed point iteration\n",
    "def fixed_point(g, x, verbose = False):\n",
    "    xs = [x]\n",
    "    if verbose:\n",
    "        print(\"xs: {}\".format(xs))\n",
    "    for i in range(40):\n",
    "        x = g(x)\n",
    "        xs.append(x)\n",
    "    return np.array(xs)\n",
    "\n",
    "xs = fixed_point(np.cos, 1, verbose = True)\n",
    "plt.plot(xs, 'o-');"
   ]
  },
  {
   "cell_type": "code",
   "execution_count": 23,
   "metadata": {},
   "outputs": [
    {
     "data": {
      "image/png": "[encoded data removed]",
      "text/plain": [
       "<Figure size 432x288 with 1 Axes>"
      ]
     },
     "metadata": {},
     "output_type": "display_data"
    }
   ],
   "source": [
    "est_root = xs[-1]\n",
    "plt.semilogy(np.abs(xs[:-1] - est_root), 'o-', label='error');\n",
    "g_prime = np.sin(est_root)\n",
    "plt.semilogy(g_prime ** np.arange(40), label=\"$|g'|^i$\")\n",
    "plt.legend();"
   ]
  },
  {
   "cell_type": "markdown",
   "metadata": {},
   "source": [
    "#### Example of divergence"
   ]
  },
  {
   "cell_type": "code",
   "execution_count": 24,
   "metadata": {},
   "outputs": [
    {
     "data": {
      "image/png": "[encoded data removed]",
      "text/plain": [
       "<Figure size 432x288 with 1 Axes>"
      ]
     },
     "metadata": {},
     "output_type": "display_data"
    }
   ],
   "source": [
    "x = np.linspace(0, 2)\n",
    "plt.plot(x, x, label='x')\n",
    "plt.plot(x, 5 - np.exp(x), label='$g(x) = 5 - \\exp(x)$')\n",
    "plt.legend();"
   ]
  },
  {
   "cell_type": "code",
   "execution_count": 25,
   "metadata": {},
   "outputs": [
    {
     "data": {
      "text/plain": [
       "array([   1.        ,    2.28171817,   -4.79349286,    4.99171653,\n",
       "       -142.18886032,    5.        , -143.4131591 ,    5.        ,\n",
       "       -143.4131591 ,    5.        ])"
      ]
     },
     "execution_count": 25,
     "metadata": {},
     "output_type": "execute_result"
    }
   ],
   "source": [
    "fixed_point(lambda x: 5 - np.exp(x), 1)[:10]"
   ]
  },
  {
   "cell_type": "markdown",
   "metadata": {},
   "source": [
    "* Even if we start close to the root, it doesn't converge.\n",
    "* We can explain this by calculating $g'(x)$ for an $x$ close to the root.  Eyeballing the graph, it appears that $r \\approx 1.3$."
   ]
  },
  {
   "cell_type": "code",
   "execution_count": 26,
   "metadata": {},
   "outputs": [
    {
     "data": {
      "text/plain": [
       "0.0026213727419630573"
      ]
     },
     "execution_count": 26,
     "metadata": {},
     "output_type": "execute_result"
    }
   ],
   "source": [
    "5 - np.exp(1.306) - 1.306"
   ]
  },
  {
   "cell_type": "markdown",
   "metadata": {},
   "source": [
    "$$ g'(x) = - \\exp(1.306) $$"
   ]
  },
  {
   "cell_type": "code",
   "execution_count": 27,
   "metadata": {},
   "outputs": [
    {
     "data": {
      "text/plain": [
       "-3.691378627258037"
      ]
     },
     "execution_count": 27,
     "metadata": {},
     "output_type": "execute_result"
    }
   ],
   "source": [
    "-np.exp(1.306)"
   ]
  },
  {
   "cell_type": "markdown",
   "metadata": {},
   "source": [
    "#### Observations\n",
    "\n",
    "* A rootfinding problem $f(x) = 0$ can be converted to a fixed point problem $$x = x - f(x) =: g(x)$$ but there is no guarantee that $g'(r) = 1 - f'(r)$ will have magnitude less than 1.\n",
    "* Problem-specific algebraic manipulation can be used to make $|g'(r)|$ small.\n",
    "* $x = x - f(x)h(x)$ is also a valid formulation for any $h(x)$ bounded away from $0$.\n",
    "* Can we choose $h(x)$ such that $$ g'(x) = 1 - f(x) h'(x) - f'(x)h(x) = 0$$ when $f(x) = 0$?\n",
    "\n",
    "In other words,\n",
    "$$ x_{i+1} = x_i - f(x) \\underbrace{\\frac{1}{f'(x)}}_{h(x)} . $$\n",
    "\n",
    "* It turns out that Newton's method has _locally quadratic_ convergence to simple roots,\n",
    "$$\\lim_{i \\to \\infty} \\frac{|e_{i+1}|}{|e_i|^2} < \\infty.$$\n",
    "* \"The number of correct digits doubles each iteration.\"\n",
    "* Now that we know how to make a good guess accurate, the effort lies in getting a good guess."
   ]
  },
  {
   "cell_type": "markdown",
   "metadata": {},
   "source": [
    "#### Culture: fast inverse square root\n",
    "\n",
    "The following code appeared literally (including comments) in the Quake III Arena source code (late 1990s).\n",
    "\n",
    "```C\n",
    "float Q_rsqrt( float number )\n",
    "{\n",
    "\tlong i;\n",
    "\tfloat x2, y;\n",
    "\tconst float threehalfs = 1.5F;\n",
    "\n",
    "\tx2 = number * 0.5F;\n",
    "\ty  = number;\n",
    "\ti  = * ( long * ) &y;                       // evil floating point bit level hacking\n",
    "\ti  = 0x5f3759df - ( i >> 1 );               // what the fuck? \n",
    "\ty  = * ( float * ) &i;\n",
    "    y  = y * ( threehalfs - ( x2 * y * y ) );   // 1st iteration\n",
    "//  y  = y * ( threehalfs - ( x2 * y * y ) );   // 2nd iteration, this can be removed\n",
    "\n",
    "\treturn y;\n",
    "}\n",
    "```\n",
    "\n",
    "We now have [vector instructions](https://software.intel.com/sites/landingpage/IntrinsicsGuide/#text=sqrt&expand=2989,1224,4470) for approximate inverse square root.\n",
    "More at https://en.wikipedia.org/wiki/Fast_inverse_square_root\n",
    "\n",
    "## Conditioning"
   ]
  },
  {
   "cell_type": "code",
   "execution_count": 28,
   "metadata": {},
   "outputs": [
    {
     "data": {
      "text/plain": [
       "(0.899096947850202, 6.650454451607741e-13, 24)"
      ]
     },
     "execution_count": 28,
     "metadata": {},
     "output_type": "execute_result"
    }
   ],
   "source": [
    "def fquartic(x):\n",
    "    return (x - 0.9)**4, 4*(x - 0.9)**3\n",
    "\n",
    "newton(fquartic, 0)"
   ]
  },
  {
   "cell_type": "markdown",
   "metadata": {},
   "source": [
    "We only get three digits correct despite a very small residual (and it takes many iterations to get there).\n",
    "Difficulty computing zeros of polynomials can also arise when all the roots are simple.  For example, the Wilkinson polynomial\n",
    "$$ \\prod_{i=1}^{20} (x - i) = \\sum_{i=0}^{20} a_i x^i $$\n",
    "has roots at each of the positive integers up to 20."
   ]
  },
  {
   "cell_type": "code",
   "execution_count": 29,
   "metadata": {},
   "outputs": [
    {
     "data": {
      "text/plain": [
       "array([   1,  -15,   85, -225,  274, -120])"
      ]
     },
     "execution_count": 29,
     "metadata": {},
     "output_type": "execute_result"
    }
   ],
   "source": [
    "def wilkinson(n):\n",
    "    \"\"\"Compute Wilkinson polynomial of degree n in the\n",
    "    monomial basis p[0]*x^n + ... + p[n-1]*x + p[n].\n",
    "    The polynomial can be evaluated using np.polyval(p,x)\n",
    "    \"\"\"\n",
    "    p = np.array([1])\n",
    "    for i in range(1, n+1):\n",
    "        p = np.polymul(p, np.array([1, -i]))\n",
    "    return p\n",
    "\n",
    "wilkinson(5)"
   ]
  },
  {
   "cell_type": "code",
   "execution_count": 30,
   "metadata": {},
   "outputs": [
    {
     "data": {
      "image/png": "[encoded data removed]",
      "text/plain": [
       "<Figure size 432x288 with 1 Axes>"
      ]
     },
     "metadata": {},
     "output_type": "display_data"
    }
   ],
   "source": [
    "def plot_wilkinson(n):\n",
    "    \"\"\"Plot the Wilkinson polynomial of degree n.\"\"\"\n",
    "    p = wilkinson(n)\n",
    "    p[n//2] *= 1 + 1e-10\n",
    "    x = np.linspace(0, n+1, 500)\n",
    "    y = np.polyval(p, x)\n",
    "    #pyplot.plot(x, y)\n",
    "    plt.semilogy(x, np.abs(y))\n",
    "    \n",
    "plot_wilkinson(17)"
   ]
  },
  {
   "cell_type": "markdown",
   "metadata": {},
   "source": [
    "The roots are extremely sensitive to perturbations of the coefficients $a_i$, as shown in this figure from Trefethen and Bau (1999).\n",
    "![Ill conditioning of roots of Wilkinson's polynomial](figures/TB-Wilkinson.png)\n",
    "\n",
    "Numerical difficulties in which \"correct\" algorithms produce unreliable solutions almost always stem from lack of *stability* and/or *ill conditioning*.\n",
    "\n",
    "### Absolute condition number\n",
    "Consider a function $f: X \\to Y$ and define the *absolute condition number*\n",
    "$$ \\hat\\kappa = \\lim_{\\delta \\to 0} \\max_{|\\delta x| < \\delta} \\frac{|f(x + \\delta x) - f(x)|}{|\\delta x|} = \\max_{\\delta x} \\frac{|\\delta f|}{|\\delta x|}. $$\n",
    "If $f$ is differentiable, then $\\hat\\kappa = |f'(x)|$.\n",
    "\n",
    "NOTE: Here we get the definition of the condition, $\\hat{\\kappa}$\n",
    "\n",
    "### Floating point arithmetic\n",
    "Floating point arithmetic $x \\circledast y := \\text{float}(x * y)$ is exact within a relative accuracy $\\epsilon_{\\text{machine}}$.  Formally,\n",
    "$$ x \\circledast y = (x * y) (1 + \\epsilon) $$\n",
    "for some $|\\epsilon| \\le \\epsilon_{\\text{machine}}$."
   ]
  },
  {
   "cell_type": "code",
   "execution_count": 31,
   "metadata": {},
   "outputs": [
    {
     "data": {
      "text/plain": [
       "'0.00000000000000002776'"
      ]
     },
     "execution_count": 31,
     "metadata": {},
     "output_type": "execute_result"
    }
   ],
   "source": [
    "format(.5, '.20f') # 0.5 can be represented by python\n",
    "format(.3, '.20f') # representation of 0.3 notice the error\n",
    "format(.2 - 1/3 + 2/15, '.20f') # should get 0 but we don't get zero. B/cos there is a approx here\n",
    "#format((.2 - 1/3) + (1/3 - 0.2), '.20f')\n",
    "#format((1 + 1e-12) - 1, '.20f')\n",
    "#format(1e-12 + 1 - 1, '.20f')"
   ]
  },
  {
   "cell_type": "code",
   "execution_count": 32,
   "metadata": {},
   "outputs": [
    {
     "name": "stdout",
     "output_type": "stream",
     "text": [
      "Machine epsilon = 1.1102230246251565e-16\n"
     ]
    },
    {
     "data": {
      "text/plain": [
       "2.220446049250313e-16"
      ]
     },
     "execution_count": 32,
     "metadata": {},
     "output_type": "execute_result"
    }
   ],
   "source": [
    "eps = 1\n",
    "while 1 + eps > 1:\n",
    "    eps /= 2\n",
    "eps_machine = eps\n",
    "print('Machine epsilon = {}'.format(eps_machine))\n",
    "(1 + 1.12e-16) - 1"
   ]
  },
  {
   "cell_type": "code",
   "execution_count": 33,
   "metadata": {},
   "outputs": [
    {
     "data": {
      "text/plain": [
       "8.890058234103173e-17"
      ]
     },
     "execution_count": 33,
     "metadata": {},
     "output_type": "execute_result"
    }
   ],
   "source": [
    "np.log(1 + 1e-12) - np.log1p(1e-12)"
   ]
  },
  {
   "cell_type": "code",
   "execution_count": 34,
   "metadata": {},
   "outputs": [
    {
     "data": {
      "text/plain": [
       "8.890058234107618e-05"
      ]
     },
     "execution_count": 34,
     "metadata": {},
     "output_type": "execute_result"
    }
   ],
   "source": [
    "(np.log(1 + 1e-12) - np.log1p(1e-12)) / np.log1p(1e-12)"
   ]
  },
  {
   "cell_type": "code",
   "execution_count": 35,
   "metadata": {},
   "outputs": [
    {
     "data": {
      "text/plain": [
       "array([ 1.22464680e-16, -3.39606540e-11, -2.23936276e-06, -2.36209053e-01])"
      ]
     },
     "execution_count": 35,
     "metadata": {},
     "output_type": "execute_result"
    }
   ],
   "source": [
    "x = np.array([1,1e5,1e10,1e15])\n",
    "np.sin(np.pi*x)"
   ]
  },
  {
   "cell_type": "code",
   "execution_count": 36,
   "metadata": {},
   "outputs": [
    {
     "data": {
      "text/plain": [
       "array([ 0.00000000e+00, -1.11022302e-16,  0.00000000e+00,  0.00000000e+00])"
      ]
     },
     "execution_count": 36,
     "metadata": {},
     "output_type": "execute_result"
    }
   ],
   "source": [
    "np.sin(x)**2 + np.cos(x)**2 - 1"
   ]
  },
  {
   "cell_type": "code",
   "execution_count": 37,
   "metadata": {},
   "outputs": [
    {
     "data": {
      "text/plain": [
       "([1209489.8070879749, 756547.0274470996], 1.0000000000070415)"
      ]
     },
     "execution_count": 37,
     "metadata": {},
     "output_type": "execute_result"
    }
   ],
   "source": [
    "[np.tan((3.14159+eps)/2)\n",
    " for eps in [1e-6,1e-8]], 1/np.cos(3.14159)**2"
   ]
  },
  {
   "cell_type": "markdown",
   "metadata": {},
   "source": [
    "### Relative condition number\n",
    "\n",
    "Given the relative nature of floating point arithmetic, it is more useful to discuss **relative condition number**,\n",
    "$$ \\kappa = \\max_{\\delta x} \\frac{|\\delta f|/|f|}{|\\delta x|/|x|}\n",
    "= \\max_{\\delta x} \\Big[ \\frac{|\\delta f|/|\\delta x|}{|f| / |x|} \\Big] $$\n",
    "or, if $f$ is differentiable,\n",
    "$$ \\kappa = \\max_{\\delta x} |f'(x)| \\frac{|x|}{|f|} . $$\n",
    "\n",
    "How does a condition number get big?\n",
    "\n",
    "#### Take-home message\n",
    "\n",
    "The relative accuracy of the best-case algorithm will not be reliably better than $\\epsilon_{\\text{machine}}$ times the condition number.\n",
    "$$ \\max_{\\delta x} \\frac{|\\delta f|}{|f|} \\ge \\kappa \\cdot \\epsilon_{\\text{machine}} .$$"
   ]
  },
  {
   "cell_type": "markdown",
   "metadata": {},
   "source": [
    "## Stability\n",
    "\n",
    "We use the notation $\\tilde f(x)$ to mean a numerical algorithm for approximating $f(x)$.  Additionally, $\\tilde x = x (1 + \\epsilon)$ is some \"good\" approximation of the exact input $x$.\n",
    "\n",
    "### (Forward) Stability\n",
    "**\"nearly the right answer to nearly the right question\"**\n",
    "$$ \\frac{\\lvert \\tilde f(x) - f(\\tilde x) \\rvert}{| f(\\tilde x) |} \\in O(\\epsilon_{\\text{machine}}) $$\n",
    "for some $\\tilde x$ that is close to $x$\n",
    "\n",
    "### Backward Stability\n",
    "**\"exactly the right answer to nearly the right question\"**\n",
    "$$ \\tilde f(x) = f(\\tilde x) $$\n",
    "for some $\\tilde x$ that is close to $x$\n",
    "\n",
    "* Every backward stable algorithm is stable.\n",
    "* Not every stable algorithm is backward stable.\n",
    "\n",
    "#### Example: $\\tilde f(x) = \\text{float}(x) \\oplus 1$\n",
    "The algorithm computes\n",
    "$$\\tilde f(x) = \\text{float}(x) \\oplus 1 = [x(1+\\epsilon_1) + 1](1 + \\epsilon_2) = (x + 1 + x\\epsilon_1)(1 + \\epsilon_2) $$\n",
    "and we can express any $\\tilde x = x(1 + \\epsilon_3)$.\n",
    "To see if if the algorithm is stable, we compute\n",
    "$$ \\frac{\\tilde f(x) - f(\\tilde x)}{|f(\\tilde x)|} = \\frac{(x + 1 + x\\epsilon_1)(1 + \\epsilon_2) - [x(1+ \\epsilon_3) + 1]}{\\tilde x + 1} = \\frac{(x + 1)\\epsilon_2 + x(\\epsilon_1 - \\epsilon_3) + O(\\epsilon^2)}{x + 1 + x\\epsilon_3} . $$\n",
    "If we can choose $\\epsilon_3$ to make this small, then the method will be (forward) stable, and if we can make this expression exactly zero, then we'll have backward stability.\n",
    "Trying for the latter, we solve for $\\epsilon_3$ by setting the numerator equal to zero,\n",
    "$$ \\epsilon_3 = \\frac{x + 1}{x}\\epsilon_2 + \\epsilon_1 + O(\\epsilon^2)/x $$\n",
    "which is small so long as $|x| \\gg 0$, but the first term blows up as $x \\to 0$.\n",
    "In other words, the fact that $\\epsilon_2$ can produce a large error relative to the input causes this algorithm to not be backward stable.\n",
    "In contrast, this $x\\to 0$ case is not a problem for forward stability because $\\epsilon_3 = \\epsilon_1$ yields error on the order of $\\epsilon_2$.\n",
    "\n",
    "#### Example: $\\tilde f(x,y) = \\text{float}(x) \\oplus \\text{float}(y)$\n",
    "\n",
    "Now we are interested in\n",
    "$$ \\frac{\\tilde f(x,y) - f(\\tilde x,\\tilde y)}{f(\\tilde x,\\tilde y)} $$\n",
    "and we can vary both $\\tilde x$ and $\\tilde y$.  If we choose $y=1$, then the ability to vary $\\tilde y$ is powerful enough to ensure backward stability.\n",
    "\n",
    "### Accuracy of backward stable algorithms (Theorem)\n",
    "\n",
    "A backward stable algorithm for computing $f(x)$ has relative accuracy\n",
    "$$ \\left\\lvert \\frac{\\tilde f(x) - f(x)}{f(x)} \\right\\rvert \\in O(\\kappa(f) \\epsilon_{\\text{machine}}) . $$\n",
    "This is a rewording of a statement made earlier -- backward stability is the best case."
   ]
  },
  {
   "cell_type": "code",
   "execution_count": null,
   "metadata": {},
   "outputs": [],
   "source": []
  }
 ],
 "metadata": {
  "kernelspec": {
   "display_name": "Python 3",
   "language": "python",
   "name": "python3"
  },
  "language_info": {
   "codemirror_mode": {
    "name": "ipython",
    "version": 3
   },
   "file_extension": ".py",
   "mimetype": "text/x-python",
   "name": "python",
   "nbconvert_exporter": "python",
   "pygments_lexer": "ipython3",
   "version": "3.7.3"
  }
 },
 "nbformat": 4,
 "nbformat_minor": 2
}
