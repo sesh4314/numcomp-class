{
 "cells": [
  {
   "cell_type": "code",
   "execution_count": 1,
   "metadata": {},
   "outputs": [],
   "source": [
    "%matplotlib inline\n",
    "import numpy as np\n",
    "import matplotlib.pyplot as plt\n",
    "plt.style.use('seaborn')"
   ]
  },
  {
   "cell_type": "markdown",
   "metadata": {},
   "source": [
    "# Midterm 1 Study Guide\n",
    "\n",
    "So far in this class, we have worked with the following topics.\n",
    "\n",
    "* Rootfinding\n",
    "  * Midpoint Methods\n",
    "  * Newton and Secant Methods\n",
    "  * Convergence classes of iterative methods (q-linear and q-quadratic)\n",
    "* Conditioning of problems\n",
    "* Stability of algorithms\n",
    "* Numerical Linear Algebra\n",
    "  * Thinking abstractly about vectors\n",
    "  * Inner products and norms\n",
    "  * Projectors $P = I - v v^T$ where $\\lVert v \\rVert = 1$\n",
    "  * Reflectors $F = I - 2 v v^T$ where $\\lVert v \\rVert = 1$\n",
    "  * Gram-Schmidt algorithm for QR factorization\n",
    "  * Householder algorithm for QR factorization\n",
    "  * Leading order cost of algorithms (like big-$O$, but we quantify the leading coefficient)\n",
    "  * Solution of linear equations and linear least squares problems\n",
    "  \n",
    "I recommend reviewing the class notebooks, in-class activities, and homeworks.  Below, I'll give some discussion of the sort of questions that I could ask.\n",
    "\n",
    "## Rootfinding\n",
    "\n",
    "All rootfinding methods attempt to find $x$ such that $f(x) = 0$, but they require different information about $f$ and/or where to look.\n",
    "If we know $f'(x) < 0$, which methods can be used?  What if we also know that $f(a) > 0 > f(b)$?  Does any method guarantee that we find a unique solution?"
   ]
  },
  {
   "cell_type": "code",
   "execution_count": 2,
   "metadata": {},
   "outputs": [
    {
     "data": {
      "image/png": "[encoded data removed]",
      "text/plain": [
       "<Figure size 432x288 with 1 Axes>"
      ]
     },
     "metadata": {
      "needs_background": "light"
     },
     "output_type": "display_data"
    }
   ],
   "source": [
    "def iterate(f, x0, n):\n",
    "    \"\"\"Apply n iterations of x_{i+1} = f(x_i),\n",
    "    return resulting history as an array.\n",
    "    \"\"\"\n",
    "    hist = [x0]\n",
    "    for i in range(n):\n",
    "        hist.append(f(hist[i]))\n",
    "    return np.array(hist)\n",
    "\n",
    "def f1(x):\n",
    "    return np.cos(x)\n",
    "\n",
    "hist1 = iterate(f1, 1, 80)\n",
    "x_star = hist1[-1] # Suppose the last estimate is best\n",
    "plt.semilogy(np.abs(hist1[:30] - x_star), 'o');"
   ]
  },
  {
   "cell_type": "markdown",
   "metadata": {},
   "source": [
    "What convergence class is the above figure evidence of?"
   ]
  },
  {
   "cell_type": "code",
   "execution_count": 3,
   "metadata": {},
   "outputs": [
    {
     "data": {
      "image/png": "[encoded data removed]",
      "text/plain": [
       "<Figure size 432x288 with 1 Axes>"
      ]
     },
     "metadata": {
      "needs_background": "light"
     },
     "output_type": "display_data"
    }
   ],
   "source": [
    "def f2(x):\n",
    "    return x - (np.cos(x) - x) / (-np.sin(x) - 1)\n",
    "\n",
    "hist2 = iterate(f2, 1, 15)\n",
    "plt.semilogy(np.abs(hist2 - x_star), 'o');"
   ]
  },
  {
   "cell_type": "markdown",
   "metadata": {},
   "source": [
    "What convergence class is the above plot evidence of?\n",
    "\n",
    "What happens after the fourth iteration?\n",
    "\n",
    "Can you sketch a function such that Newton exhibits a certain behavior, such as error decreasing while residual increases?"
   ]
  },
  {
   "cell_type": "markdown",
   "metadata": {},
   "source": [
    "## Conditioning\n",
    "\n",
    "You should be able to estimate (relative) condition numbers (a finite number or $\\infty$) for differentiable functions such as $\\sin x$ at a given value of $x$.  Recall that for differentiable functions, the relative condition number is\n",
    "$$ \\kappa = \\lvert f'(x) \\rvert \\frac{\\lvert x \\rvert}{\\lvert f(x) \\rvert} . $$\n",
    "You should be able to estimate condition number for a $2\\times 2$ diagonal matrix, for example.\n",
    "\n",
    "## Stability\n",
    "\n",
    "You should be able to recognize unstable algorithms, such as in the activity where we computed $\\exp(-20)$ by directly evaluating the Taylor series."
   ]
  },
  {
   "cell_type": "code",
   "execution_count": 4,
   "metadata": {},
   "outputs": [
    {
     "data": {
      "image/png": "[encoded data removed]",
      "text/plain": [
       "<Figure size 432x288 with 1 Axes>"
      ]
     },
     "metadata": {
      "needs_background": "light"
     },
     "output_type": "display_data"
    }
   ],
   "source": [
    "def g1(theta):\n",
    "    return np.array([np.cos(theta), \n",
    "                     np.sin(theta)])\n",
    "\n",
    "def g2(theta):\n",
    "    return np.array([np.cos(theta),\n",
    "                    np.cos(theta - np.pi/2)])\n",
    "\n",
    "theta = np.linspace(1, 1.1)\n",
    "plt.plot(*g1(theta), '.')\n",
    "plt.plot(*g2(theta), '-.')\n",
    "plt.plot(*g1(theta + np.pi*1e14), 'o')\n",
    "plt.plot(*g2(theta + np.pi*1e14), 's');"
   ]
  },
  {
   "cell_type": "markdown",
   "metadata": {},
   "source": [
    "Can you explain the plot above?  Is there evidence that one of these functions (`g1` or `g2`) is backward stable?"
   ]
  },
  {
   "cell_type": "markdown",
   "metadata": {},
   "source": [
    "## Numerical Linear Algebra\n",
    "\n",
    "If $u$ and $v$ are vectors and I propose a function $h(u, v)$, can you determine whether it is an inner product?\n",
    "\n",
    "There are two Moodle quizes about projections and matrix transformations.  If I ask a similar question, can you understand the terminology and show whether a property is true?\n",
    "\n",
    "Is an orthogonal projector an orthogonal matrix?\n",
    "\n",
    "If $Q$ has orthonormal columns, is $Q^T Q = Q Q^T$?  What if $Q$ is square?"
   ]
  },
  {
   "cell_type": "code",
   "execution_count": 5,
   "metadata": {},
   "outputs": [
    {
     "data": {
      "text/plain": [
       "3.3422138886441676e-16"
      ]
     },
     "execution_count": 5,
     "metadata": {},
     "output_type": "execute_result"
    }
   ],
   "source": [
    "def factor(A):\n",
    "    A = A.copy()\n",
    "    n = len(A)\n",
    "    for i in range(n):\n",
    "        ai = 1/A[i, i]\n",
    "        A[i+1:, i] *= ai\n",
    "        A[i+1:, i+1:] -= np.outer(A[i+1:, i], A[i, i+1:])\n",
    "    return np.tril(A, -1) + np.eye(n), np.triu(A)\n",
    "\n",
    "A = np.random.randn(4, 4)\n",
    "L, U = factor(A)\n",
    "np.linalg.norm(L @ U - A)"
   ]
  },
  {
   "cell_type": "markdown",
   "metadata": {},
   "source": [
    "Which line in the above function is most expensive?\n",
    "\n",
    "How much does it cost on the first iteration?\n",
    "\n",
    "Can you write a sum of the cost over all loop iterations?\n",
    "\n",
    "Can you write a $2\\times 2$ matrix such that the above code fails?\n",
    "\n",
    "Given a collection of vectors, how can you use QR factorization to build an orthogonal basis that spans the same space and where all but one vector has mean zero?\n",
    "\n",
    "Given a matrix $A$, can you devise an elementary reflector $F = I - 2 v v^T$ such that the first column of the product $F A$ is a constant vector (all entries the same)?"
   ]
  }
 ],
 "metadata": {
  "kernelspec": {
   "display_name": "Python 3",
   "language": "python",
   "name": "python3"
  },
  "language_info": {
   "codemirror_mode": {
    "name": "ipython",
    "version": 3
   },
   "file_extension": ".py",
   "mimetype": "text/x-python",
   "name": "python",
   "nbconvert_exporter": "python",
   "pygments_lexer": "ipython3",
   "version": "3.7.2"
  }
 },
 "nbformat": 4,
 "nbformat_minor": 2
}
